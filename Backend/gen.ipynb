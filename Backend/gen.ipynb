{
 "cells": [
  {
   "cell_type": "code",
   "execution_count": 231,
   "metadata": {},
   "outputs": [
    {
     "name": "stderr",
     "output_type": "stream",
     "text": [
      "C:\\Users\\schiw\\AppData\\Local\\Temp\\ipykernel_176\\4219458375.py:25: DeprecationWarning: Sampling from a set deprecated\n",
      "since Python 3.9 and will be removed in a subsequent version.\n",
      "  friends = random.sample(data.keys(), countF)\n"
     ]
    }
   ],
   "source": [
    "import secrets\n",
    "import string\n",
    "import random\n",
    "import math\n",
    "import json\n",
    " \n",
    "# initializing size of string\n",
    "N = 20\n",
    " \n",
    "# using secrets.choice()\n",
    "# generating random strings\n",
    "\n",
    "data = {}\n",
    "\n",
    "def calcBack(num, curr, mini, maxi, phase):\n",
    "    days = []\n",
    "    for n in range(num):\n",
    "        days.append((math.cos(phase+(curr-n)/365*2*math.pi)/2+0.5)*(maxi-mini)+mini+(random.random()*2-1)/20*maxi)\n",
    "    days.reverse()\n",
    "    return days\n",
    "\n",
    "for a in range(100):\n",
    "    sk = .03\n",
    "    countF = min(len(data.items()), random.randint(0,20))\n",
    "    friends = random.sample(data.keys(), countF)\n",
    "    uid = ''.join(secrets.choice(string.ascii_lowercase + string.digits) for i in range(N))\n",
    "    lat, lon = random.randint(20000,60000)/1000, random.randint(-40000,40000)/1000\n",
    "    days = random.randint(100,400)\n",
    "    area = random.randint(30,150)\n",
    "    construction = random.randint(1960, 2020)\n",
    "    glass = random.randint(1,3)\n",
    "    heating = random.randint(1,4)\n",
    "    solar = random.randint(1,10)<=3\n",
    "    heatpump_type = random.randint(1,4)\n",
    "    curr = 365-42\n",
    "    save_solar = []\n",
    "    if solar:\n",
    "        solarArea = area*random.randint(20,70)/100\n",
    "        power = sk*math.cos(lat/180*math.pi)\n",
    "        save_solar = calcBack(days, curr, solarArea*math.cos(math.pi*lon/180)*0.2*power, solarArea*math.cos(math.pi*lon/180)*power, math.pi*4/5)\n",
    "    mult = 1.0 if construction <=1980 else 1\n",
    "    mult = 0.75 if construction <=2000 else 1\n",
    "    mult = 0.5 if construction <=2020 else 1\n",
    "\n",
    "    max_cons = 0.095 *mult*0.9*area\n",
    "    min_cons = max_cons*0.3\n",
    "    \n",
    "    cons_heating = calcBack(days, curr,min_cons, max_cons, 0)\n",
    "    #print(cons_heating)\n",
    "    cons_electricity = calcBack(days, curr,0.5, 1.5,0)\n",
    "    \n",
    "    surplus = False\n",
    "    cons_combined = []\n",
    "    if heating == 4:\n",
    "        for a,b in zip(cons_electricity, cons_heating):\n",
    "            cons_combined.append(a+b)\n",
    "    else:\n",
    "        cons_combined = cons_electricity\n",
    "    \n",
    "    for a,b in zip(save_solar, cons_combined):\n",
    "        if a>b*1.2:\n",
    "            surplus = True\n",
    "    \n",
    "    data[uid] = {\n",
    "        \"friends\": friends,\n",
    "        \"surplus\": surplus,\n",
    "        \"consumption_heating\": cons_heating,\n",
    "        \"consumption_electricity\": cons_electricity,\n",
    "        \"solar\": {\n",
    "            \"installed\":solar,\n",
    "            \"save_solar\": save_solar\n",
    "            },\n",
    "        \"home\":{\n",
    "            \"lat\":lat,\n",
    "            \"lon\":lon,\n",
    "            \"area\": area,\n",
    "            \"glass\": \"single\" if glass == 1 else (\"double\" if glass == 2 else \"triple\"),\n",
    "            \"gas_heating\": heating == 1,\n",
    "            \"oil_heating\": heating == 2,\n",
    "            \"pellet_heating\": heating == 3,\n",
    "            \"pump_heating\": heating == 4,\n",
    "            \"floor_heating\": random.randint(1,2) ==1,\n",
    "            \"yearOfConstruction\": construction,\n",
    "            \"pump_type\": None if not heating == 4 else (\"air\" if heatpump_type == 1 else (\"air-water\" if heatpump_type == 2 else (\"earth\" if heatpump_type == 3 else \"groundwater\")))\n",
    "        }\n",
    "    }\n",
    "with open(\"userData.json\", \"w\") as f:\n",
    "    json.dump(data,f)\n",
    "\n"
   ]
  },
  {
   "cell_type": "code",
   "execution_count": 232,
   "metadata": {},
   "outputs": [
    {
     "data": {
      "image/png": "[encoded data removed]",
      "text/plain": [
       "<Figure size 432x288 with 1 Axes>"
      ]
     },
     "metadata": {
      "needs_background": "light"
     },
     "output_type": "display_data"
    }
   ],
   "source": [
    "import matplotlib.pyplot as plt\n",
    "with open(\"userData.json\", \"r\") as f:\n",
    "    data = json.load(f)\n",
    "val = list(data.values())[0]\n",
    "c,v,b = val[\"consumption_heating\"], val[\"consumption_electricity\"], val[\"solar\"][\"save_solar\"]\n",
    "plt.plot(range(len(c)),c, color=\"b\")\n",
    "plt.plot(range(len(c)),v, color=\"r\")\n",
    "if b!= []:\n",
    "    plt.plot(range(len(c)),b, color=\"g\")"
   ]
  }
 ],
 "metadata": {
  "kernelspec": {
   "display_name": "hack",
   "language": "python",
   "name": "python3"
  },
  "language_info": {
   "codemirror_mode": {
    "name": "ipython",
    "version": 3
   },
   "file_extension": ".py",
   "mimetype": "text/x-python",
   "name": "python",
   "nbconvert_exporter": "python",
   "pygments_lexer": "ipython3",
   "version": "3.10.8"
  },
  "orig_nbformat": 4,
  "vscode": {
   "interpreter": {
    "hash": "1515bc25189ff1f3cf02876ab3ac66088e64c724c669d73af13981b4181dfe2c"
   }
  }
 },
 "nbformat": 4,
 "nbformat_minor": 2
}
